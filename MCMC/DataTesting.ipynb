{
 "cells": [
  {
   "cell_type": "code",
   "execution_count": 1,
   "id": "7c50002a-3010-4af0-96b8-1686304d1057",
   "metadata": {},
   "outputs": [],
   "source": [
    "import numpy as np"
   ]
  },
  {
   "cell_type": "code",
   "execution_count": 2,
   "id": "15f4c8fd-a262-4aee-942b-304e5d46382c",
   "metadata": {},
   "outputs": [],
   "source": [
    "data_file = 'data/data.txt'"
   ]
  },
  {
   "cell_type": "code",
   "execution_count": 7,
   "id": "3ee337f8-77a8-40a4-8033-0b4121c982f8",
   "metadata": {},
   "outputs": [],
   "source": [
    "data = np.loadtxt(data_file)\n",
    "\n",
    "data = np.loadtxt(data_file).T"
   ]
  },
  {
   "cell_type": "code",
   "execution_count": 11,
   "id": "7db21ff7-a10c-49cb-945a-9ebb4cff960d",
   "metadata": {},
   "outputs": [
    {
     "name": "stdout",
     "output_type": "stream",
     "text": [
      "(3, 15)\n",
      "[-1.         -0.71428571 -0.42857143 -0.14285714  0.14285714  0.42857143\n",
      "  0.71428571  1.          1.28571429  1.57142857  1.85714286  2.14285714\n",
      "  2.42857143  2.71428571  3.        ]\n",
      "[-2.18680522e+00 -1.16483443e+00 -1.05030407e+00 -3.26374000e-03\n",
      "  4.28162100e-02  2.70203372e+00  3.66231163e+00  3.82192392e+00\n",
      "  4.07419325e+00  3.73864891e+00  6.35436737e+00  5.86898538e+00\n",
      "  4.87059017e+00  7.33237739e+00  9.80876717e+00]\n",
      "[0.5        0.57142857 0.64285714 0.71428571 0.78571429 0.85714286\n",
      " 0.92857143 1.         1.07142857 1.14285714 1.21428571 1.28571429\n",
      " 1.35714286 1.42857143 1.5       ]\n"
     ]
    }
   ],
   "source": [
    "print(data.shape)\n",
    "# print(data[0])\n",
    "# print(data[1])\n",
    "\n",
    "for i in range(data.shape[0]):\n",
    "    print(data[i])"
   ]
  },
  {
   "cell_type": "code",
   "execution_count": 12,
   "id": "223ba162-7f95-425c-afb0-fe3f29e76255",
   "metadata": {},
   "outputs": [],
   "source": [
    "import matplotlib.pyplot as plt"
   ]
  },
  {
   "cell_type": "code",
   "execution_count": 22,
   "id": "e5000f83-b5a5-4046-935d-daeeecab73bd",
   "metadata": {},
   "outputs": [
    {
     "data": {
      "image/png": "[encoded data removed]",
      "text/plain": [
       "<Figure size 400x400 with 1 Axes>"
      ]
     },
     "metadata": {},
     "output_type": "display_data"
    }
   ],
   "source": [
    "x = data[0].copy()\n",
    "y = data[1].copy()\n",
    "err = data[2].copy()\n",
    "\n",
    "plt.figure(figsize=(4,4))\n",
    "# plt.plot(x,y)\n",
    "plt.errorbar(x,y,yerr=err,ls='none',marker='o',capsize=5,color='k')\n",
    "plt.show()"
   ]
  },
  {
   "cell_type": "code",
   "execution_count": 56,
   "id": "3310be72-6079-4b4f-9f27-f61b058c37ae",
   "metadata": {},
   "outputs": [
    {
     "data": {
      "image/png": "[encoded data removed]",
      "text/plain": [
       "<Figure size 400x400 with 1 Axes>"
      ]
     },
     "metadata": {},
     "output_type": "display_data"
    }
   ],
   "source": [
    "my_x = x.copy() #np.linspace(-1.2,3.2,50)\n",
    "\n",
    "my_y = 3.0*my_x\n",
    "\n",
    "slope,intercept = 1.0,0.0\n",
    "my_y = slope*my_x + intercept\n",
    "\n",
    "plt.figure(figsize=(4,4))\n",
    "plt.errorbar(x,y,yerr=err,ls='none',marker='o',capsize=5,color='k')\n",
    "plt.plot(my_x,my_y,'r--')\n",
    "plt.show()"
   ]
  },
  {
   "cell_type": "code",
   "execution_count": 50,
   "id": "2ea9c3b1-0036-4ce9-9e41-99caac8dbc79",
   "metadata": {},
   "outputs": [
    {
     "name": "stdout",
     "output_type": "stream",
     "text": [
      "9038.594450104283\n"
     ]
    }
   ],
   "source": [
    "# my_x,x\n",
    "# np.abs(y - my_y)\n",
    "# (y-my_y)**2\n",
    "# np.sum((y-my_y)**2)\n",
    "\n",
    "# np.sum((y-my_y)**2/(err)**2) # chii_squared sum_i ((data_i - model_i) / error_i)**2\n",
    "\n",
    "chi2 = np.sum((y-my_y)**2/(err)**2)\n",
    "print(chi2)"
   ]
  },
  {
   "cell_type": "code",
   "execution_count": 62,
   "id": "6c9d1e67-4cd1-4513-ab6c-c71c00ecd565",
   "metadata": {},
   "outputs": [
    {
     "name": "stdout",
     "output_type": "stream",
     "text": [
      "17.545541591091343\n"
     ]
    }
   ],
   "source": [
    "slope,intercept = 2.5,0.0\n",
    "my_y = slope*my_x + intercept\n",
    "chi2 = np.sum((y-my_y)**2/(err)**2)\n",
    "print(chi2)"
   ]
  },
  {
   "cell_type": "markdown",
   "id": "38e64ea5-280a-4ec2-a059-64ef22db05f3",
   "metadata": {},
   "source": [
    "# this is a comment\n",
    "## this is another one"
   ]
  },
  {
   "cell_type": "markdown",
   "id": "e0605f58-88ee-4ef8-bf23-95275e0847e0",
   "metadata": {},
   "source": [
    "# Ways of exploring parameter space\n",
    "## Brute force\n",
    "1. Create a grid of parameter values\n",
    "2. Calculate $\\chi^{2}$ at each parameter location\n",
    "3. Find the parameter values that minimize $\\chi^2$\n",
    "\n",
    "## Stochastic parameter inference\n",
    "1. MCMC techniques (Markov Chain Monte Carlo)"
   ]
  },
  {
   "cell_type": "code",
   "execution_count": 64,
   "id": "3f9246f4-d0f2-4dfd-8c99-c33ca94bcfee",
   "metadata": {},
   "outputs": [
    {
     "name": "stdout",
     "output_type": "stream",
     "text": [
      "[1451.87497705 1178.39393742  956.71590536  786.84088087  668.76886393\n",
      "  602.49985456  588.03385275  625.3708585   714.51087181  855.45389269\n",
      " 1294.58380949 1026.04034191  809.29988189  644.36242944  531.22798455\n",
      "  469.89654722  460.36811746  502.64269526  596.72028062  742.60087354\n",
      " 1154.07130701  890.46541148  678.66252351  518.6626431   410.46577026\n",
      "  354.07190497  349.48104725  396.6931971   495.7083545   646.52651947\n",
      " 1030.33746962  771.66914613  564.8038302   409.74152184  306.48222104\n",
      "  255.02592781  255.37264213  307.52236402  411.47509347  567.23083049\n",
      "  923.3822973   669.65154586  467.72380198  317.59906567  219.27733692\n",
      "  172.75861572  178.0429021   235.13019603  344.02049753  504.71380659\n",
      "  833.20579008  584.41261068  387.42243885  242.23527458  148.85111787\n",
      "  107.26996872  117.49182714  179.51669312  293.34456666  458.97544777\n",
      "  759.80794794  515.95234058  323.8997408   183.65014857   95.20356391\n",
      "   58.55998681   73.71941727  140.6818553   259.44730089  430.01575404\n",
      "  703.18877088  464.27073557  277.15570783  141.84368765   58.33467503\n",
      "   26.62866998   46.72567249  118.62568256  242.32870019  417.83472539\n",
      "  663.3482589   429.36779564  247.19033994  116.81589181   38.24445124\n",
      "   11.47601823   36.51059278  113.3481749   241.98876458  422.43236182\n",
      "  640.28641201  411.24352079  234.00363714  108.56676105   34.93289253\n",
      "   13.10203156   43.07417816  124.84933233  258.42749405  443.80866334]\n"
     ]
    }
   ],
   "source": [
    "# Brute force\n",
    "slopes = np.linspace(-2,3,10)\n",
    "intercepts = np.linspace(-5,5,10)\n",
    "\n",
    "chi2 = np.zeros(slopes.size*intercepts.size,float)\n",
    "\n",
    "counter = 0\n",
    "for i in range(slopes.size):\n",
    "    for j in range(intercepts.size):\n",
    "        slope,intercept = slopes[i],intercepts[j]\n",
    "        my_y = slope*my_x + intercept\n",
    "        chi2[counter] = np.sum((y-my_y)**2/(err)**2)\n",
    "        counter = counter + 1\n",
    "print(chi2)"
   ]
  },
  {
   "cell_type": "code",
   "execution_count": null,
   "id": "47445168-44fc-46cb-a7f2-8dac8a1dca93",
   "metadata": {},
   "outputs": [],
   "source": []
  }
 ],
 "metadata": {
  "kernelspec": {
   "display_name": "Python 3 (ipykernel)",
   "language": "python",
   "name": "python3"
  },
  "language_info": {
   "codemirror_mode": {
    "name": "ipython",
    "version": 3
   },
   "file_extension": ".py",
   "mimetype": "text/x-python",
   "name": "python",
   "nbconvert_exporter": "python",
   "pygments_lexer": "ipython3",
   "version": "3.11.8"
  }
 },
 "nbformat": 4,
 "nbformat_minor": 5
}
